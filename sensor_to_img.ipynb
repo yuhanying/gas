{
 "cells": [
  {
   "cell_type": "code",
   "execution_count": 1,
   "metadata": {},
   "outputs": [
    {
     "name": "stdout",
     "output_type": "stream",
     "text": [
      "GASF圖像已經成功生成並儲存在對應的資料夾中。\n"
     ]
    }
   ],
   "source": [
    "import os\n",
    "import pandas as pd\n",
    "import numpy as np\n",
    "import matplotlib.pyplot as plt\n",
    "from pyts.image import GramianAngularField\n",
    "\n",
    "# 讀取資料\n",
    "data = pd.read_csv('./data/Gas Sensors Measurements/Gas_Sensors_Measurements.csv')\n",
    "\n",
    "# 創建資料夾\n",
    "os.makedirs('./data/GasImages', exist_ok=True)\n",
    "gases = data['Gas'].unique()\n",
    "for gas in gases:\n",
    "    os.makedirs(f'GasImages/{gas}', exist_ok=True)\n",
    "\n",
    "# 定義要轉換為GASF圖像的欄位\n",
    "sensor_columns = ['MQ2', 'MQ3', 'MQ5', 'MQ6', 'MQ7', 'MQ8', 'MQ135']\n",
    "\n",
    "# 初始化GASF轉換器\n",
    "gasf = GramianAngularField(image_size=len(sensor_columns), method='summation')\n",
    "\n",
    "# 生成每筆資料的GASF圖像並儲存\n",
    "for i, row in data.iterrows():\n",
    "    sensor_data = row[sensor_columns].values.reshape(1, -1)\n",
    "    gasf_image = gasf.fit_transform(sensor_data)\n",
    "    \n",
    "    plt.figure(figsize=(4, 4))\n",
    "    plt.imshow(gasf_image[0], cmap='rainbow', origin='lower')\n",
    "    # plt.title(f'Serial Number: {row[\"Serial Number\"]}')\n",
    "    plt.axis('off')\n",
    "    \n",
    "    image_path = f'./data/GasImages/{row[\"Gas\"]}/{row[\"Corresponding Image Name\"]}.png'\n",
    "    plt.savefig(image_path)\n",
    "    plt.close()\n",
    "\n",
    "print(\"GASF圖像已經成功生成並儲存在對應的資料夾中。\")\n"
   ]
  }
 ],
 "metadata": {
  "kernelspec": {
   "display_name": "yuhan",
   "language": "python",
   "name": "python3"
  },
  "language_info": {
   "codemirror_mode": {
    "name": "ipython",
    "version": 3
   },
   "file_extension": ".py",
   "mimetype": "text/x-python",
   "name": "python",
   "nbconvert_exporter": "python",
   "pygments_lexer": "ipython3",
   "version": "3.10.13"
  }
 },
 "nbformat": 4,
 "nbformat_minor": 2
}
