{
 "cells": [
  {
   "cell_type": "code",
   "execution_count": 62,
   "metadata": {},
   "outputs": [
    {
     "name": "stderr",
     "output_type": "stream",
     "text": [
      "\u001b[34m\u001b[1mwandb\u001b[0m: \u001b[33mWARNING\u001b[0m Calling wandb.login() after wandb.init() has no effect.\n"
     ]
    },
    {
     "data": {
      "text/plain": [
       "True"
      ]
     },
     "execution_count": 62,
     "metadata": {},
     "output_type": "execute_result"
    }
   ],
   "source": [
    "import wandb\n",
    "import datetime\n",
    "from argparse import Namespace\n",
    "wandb.login()\n"
   ]
  },
  {
   "cell_type": "code",
   "execution_count": 63,
   "metadata": {},
   "outputs": [],
   "source": [
    "import numpy as np\n",
    "import pandas as pd\n",
    "import random\n",
    "\n",
    "\n",
    "# model interpretability\n",
    "from captum.attr import IntegratedGradients\n",
    "\n",
    "import torch\n",
    "import torch.nn as nn\n",
    "from torch.utils.data import Dataset, DataLoader\n",
    "import torchvision.transforms as transform\n",
    "import torch.optim as optim\n",
    "from torch.optim import lr_scheduler\n",
    "import torchvision.transforms as transforms\n",
    "import torch.nn.functional as F\n",
    "import torchvision.models as models\n",
    "from PIL import Image, ImageFile\n",
    "import copy\n",
    "from sklearn.model_selection import train_test_split\n",
    "import os\n",
    "import matplotlib.pyplot as plt\n",
    "import seaborn as sns\n",
    "from sklearn.preprocessing import MinMaxScaler\n",
    "from sklearn.metrics import confusion_matrix\n",
    "from sklearn.metrics import precision_recall_fscore_support\n",
    "import seaborn as sns\n",
    "%matplotlib inline\n",
    "import warnings\n",
    "warnings.filterwarnings('ignore')"
   ]
  },
  {
   "cell_type": "code",
   "execution_count": 64,
   "metadata": {},
   "outputs": [],
   "source": [
    "def seed_everything(seed):\n",
    "    # Set Python random seed\n",
    "    random.seed(seed)\n",
    "\n",
    "    # Set NumPy random seed\n",
    "    np.random.seed(seed)\n",
    "\n",
    "    # Set PyTorch random seed for CPU and GPU\n",
    "    torch.manual_seed(seed)\n",
    "    if torch.cuda.is_available():\n",
    "        torch.cuda.manual_seed_all(seed)\n",
    "\n",
    "    # Set PyTorch deterministic operations for cudnn backend\n",
    "    torch.backends.cudnn.deterministic = True\n",
    "    torch.backends.cudnn.benchmark = False\n",
    "seed_everything(42)"
   ]
  },
  {
   "cell_type": "code",
   "execution_count": 65,
   "metadata": {},
   "outputs": [
    {
     "name": "stdout",
     "output_type": "stream",
     "text": [
      "cuda\n"
     ]
    }
   ],
   "source": [
    "config=Namespace(\n",
    "    project_name=\"VGG19_TRANSFORMER_twoimage\",\n",
    "    batch_size = 16,\n",
    "    epochs = 150,\n",
    "    device = torch.device(\"cuda\" if torch.cuda.is_available() else \"cpu\"),\n",
    "    criterion = nn.CrossEntropyLoss()\n",
    "    )\n",
    "    \n",
    "print(config.device)"
   ]
  },
  {
   "cell_type": "code",
   "execution_count": 66,
   "metadata": {},
   "outputs": [
    {
     "name": "stdout",
     "output_type": "stream",
     "text": [
      "[['./data/Thermal Camera Images/NoGas/0_NoGas.png' '0']\n",
      " ['./data/Thermal Camera Images/NoGas/1_NoGas.png' '0']\n",
      " ['./data/Thermal Camera Images/NoGas/2_NoGas.png' '0']\n",
      " ...\n",
      " ['./data/Thermal Camera Images/Mixture/1597_Mixture.png' '3']\n",
      " ['./data/Thermal Camera Images/Mixture/1598_Mixture.png' '3']\n",
      " ['./data/Thermal Camera Images/Mixture/1599_Mixture.png' '3']]\n"
     ]
    }
   ],
   "source": [
    "root_dir=\"./data/Thermal Camera Images\" #480x640 \"..\":表上級目錄\n",
    "thermal=[]\n",
    "label=[\"NoGas\",\"Perfume\",\"Smoke\",\"Mixture\"]\n",
    "\n",
    "for i, cls in enumerate(label):\n",
    "    # print(cls)\n",
    "    class_dir = os.path.join(root_dir, cls)\n",
    "    class_image=[f for f in os.listdir(class_dir)]\n",
    "    class_image = sorted(class_image, key=lambda x: int(x.split(\"_\")[0]))\n",
    "    for img in class_image:\n",
    "        thermal.append((os.path.join(class_dir, img), i))\n",
    "\n",
    "thermal = np.array(thermal)\n",
    "\n",
    "print(thermal)"
   ]
  },
  {
   "cell_type": "code",
   "execution_count": 67,
   "metadata": {},
   "outputs": [
    {
     "name": "stdout",
     "output_type": "stream",
     "text": [
      "(6400, 1)\n"
     ]
    }
   ],
   "source": [
    "root_dir=\"./data/GasImages\" #480x640 \"..\":表上級目錄/home/server4090-3/homework_pm2.5/gas/3D/data/GasImages\n",
    "gasf=[]\n",
    "label=[\"NoGas\",\"Perfume\",\"Smoke\",\"Mixture\"]\n",
    "\n",
    "for i, cls in enumerate(label):\n",
    "    # print(cls)\n",
    "    class_dir = os.path.join(root_dir, cls)\n",
    "    class_image=[f for f in os.listdir(class_dir)]\n",
    "    class_image = sorted(class_image, key=lambda x: int(x.split(\"_\")[0]))\n",
    "    for img in class_image:\n",
    "        gasf.append((os.path.join(class_dir, img)))\n",
    "\n",
    "gasf = np.array(gasf)\n",
    "\n",
    "print(gasf.reshape(-1, 1).shape)"
   ]
  },
  {
   "cell_type": "code",
   "execution_count": 68,
   "metadata": {},
   "outputs": [
    {
     "name": "stdout",
     "output_type": "stream",
     "text": [
      "[['0' './data/Thermal Camera Images/NoGas/0_NoGas.png' '0'\n",
      "  './data/GasImages/NoGas/0_NoGas.png']\n",
      " ['1' './data/Thermal Camera Images/NoGas/1_NoGas.png' '0'\n",
      "  './data/GasImages/NoGas/1_NoGas.png']\n",
      " ['2' './data/Thermal Camera Images/NoGas/2_NoGas.png' '0'\n",
      "  './data/GasImages/NoGas/2_NoGas.png']\n",
      " ...\n",
      " ['6397' './data/Thermal Camera Images/Mixture/1597_Mixture.png' '3'\n",
      "  './data/GasImages/Mixture/1597_Mixture.png']\n",
      " ['6398' './data/Thermal Camera Images/Mixture/1598_Mixture.png' '3'\n",
      "  './data/GasImages/Mixture/1598_Mixture.png']\n",
      " ['6399' './data/Thermal Camera Images/Mixture/1599_Mixture.png' '3'\n",
      "  './data/GasImages/Mixture/1599_Mixture.png']]\n"
     ]
    }
   ],
   "source": [
    "\n",
    "# 檢查兩個陣列的長度是否相同\n",
    "assert len(thermal) == len(gasf), \"兩個陣列的長度不同，無法合併。\"\n",
    "\n",
    "# 合併兩個陣列\n",
    "combined_array = np.hstack((thermal, gasf.reshape(-1, 1)))\n",
    "# 宣告train_id列\n",
    "train_id = np.arange(len(combined_array)).reshape(-1, 1)\n",
    "\n",
    "# 將train_id列添加到combined_array中\n",
    "final_array = np.hstack((train_id,combined_array))\n",
    "print(final_array)"
   ]
  },
  {
   "cell_type": "code",
   "execution_count": 69,
   "metadata": {},
   "outputs": [
    {
     "data": {
      "image/jpeg": "[encoded data removed]",
      "image/png": "[encoded data removed]",
      "text/plain": [
       "<PIL.Image.Image image mode=RGB size=400x400>"
      ]
     },
     "execution_count": 69,
     "metadata": {},
     "output_type": "execute_result"
    }
   ],
   "source": [
    "a='./data/GasImages/NoGas/0_NoGas.png'\n",
    "b='./data/Thermal Camera Images/NoGas/0_NoGas.png'\n",
    "gasf=Image.open(a).convert('RGB')\n",
    "                \n",
    "gasf"
   ]
  },
  {
   "cell_type": "code",
   "execution_count": 70,
   "metadata": {},
   "outputs": [
    {
     "name": "stdout",
     "output_type": "stream",
     "text": [
      "6400\n",
      "4267 853 1280\n",
      "['./data/GasImages/NoGas/1_NoGas.png' './data/GasImages/NoGas/2_NoGas.png'\n",
      " './data/GasImages/NoGas/3_NoGas.png' ...\n",
      " './data/GasImages/Mixture/1597_Mixture.png'\n",
      " './data/GasImages/Mixture/1598_Mixture.png'\n",
      " './data/GasImages/Mixture/1599_Mixture.png']\n"
     ]
    }
   ],
   "source": [
    "# data=pd.read_csv(\"../data/Gas Sensors Measurements/Gas_Sensors_Measurements.csv\")\n",
    "# data=data.drop(\"Corresponding Image Name\",axis=1)\n",
    "# data=data.drop(\"Gas\",axis=1)\n",
    "# # data=data.drop(\"Serial Number\",axis=1)\n",
    "# data.insert(1,\"index\", range(0, len(data))) #新增feature 1-6400\n",
    "# data=np.array(data)\n",
    "\n",
    "# data_cat=np.concatenate((data, file), axis=1)\n",
    "# scaler = MinMaxScaler(feature_range=(0,1))\n",
    "# data_cat[:,2:9]=scaler.fit_transform(data[:,2:9]) # feature 1 (1-1600)*4|feature 2 1-6400|feature 3-9 sensor\n",
    "# print(data_cat)\n",
    "# train_ratio = 0.6\n",
    "# valid_ratio = 0.2\n",
    "# test_ratio = 0.2\n",
    "\n",
    "# # 計算相應的樣本數量\n",
    "# total_samples = len(data_cat)\n",
    "# num_train = int(train_ratio * total_samples)\n",
    "# num_valid = int(valid_ratio * total_samples)\n",
    "\n",
    "# # 使用 numpy 的切片功能進行分割\n",
    "# train, X_temp= data_cat[:num_train], data_cat[num_train:num_train + num_valid]\n",
    "# valid, test= data_cat[num_train:num_train + num_valid], data_cat[num_train + num_valid:]\n",
    "print(len(final_array))\n",
    "indices = [i for i in range(len(final_array)) if i%5!=0]\n",
    "train_=final_array[indices] #5120\n",
    "# print(train_)\n",
    "indices_tr=[i for i in indices if i%6!=0]\n",
    "# print(indices_vl)\n",
    "train_id=train_[:,0].astype(int)\n",
    "train=train_[np.isin(train_id,indices_tr)]\n",
    "indices_vl=[i for i in indices if i%6==0]\n",
    "valid=train_[np.isin(train_id,indices_vl)]\n",
    "indices = [i for i in range(len(final_array)) if i%5==0]\n",
    "test=final_array[indices]\n",
    "print(len(train),len(valid),len(test))\n",
    "# train_,test=train_test_split(data_cat,train_size=0.8,random_state=42)\n",
    "# train,valid=train_test_split(train_,train_size=0.8,random_state=42)\n",
    "\n",
    "# sorted_indices_tr = np.argsort(train[:, 0])\n",
    "# sorted_indices_vl = np.argsort(valid[:, 0])\n",
    "# sorted_indices_tt = np.argsort(test[:, 0])\n",
    "# train=train[sorted_indices_tr]\n",
    "# valid=train[sorted_indices_vl]\n",
    "# test=train[sorted_indices_tt]\n",
    "\n",
    "y_train=train[:,2]\n",
    "# print(y_train)\n",
    "gasf_train=train[:,3]\n",
    "\n",
    "image_train=train[:,1]\n",
    "print(gasf_train)\n",
    "y_valid=valid[:,2]\n",
    "gasf_valid=valid[:,3]\n",
    "image_valid=valid[:,1]\n",
    "\n",
    "y_test=test[:,2]\n",
    "gasf_test=test[:,3]\n",
    "image_test=test[:,1]"
   ]
  },
  {
   "cell_type": "code",
   "execution_count": 82,
   "metadata": {},
   "outputs": [],
   "source": [
    "class sensordata(nn.Module):\n",
    "    def __init__(self,target,gasf=None,image=None,transform=None,seq_len=12):\n",
    "        self.seq_len=seq_len\n",
    "        self.transform=transform\n",
    "        self.img = image\n",
    "\n",
    "        self.gasf=gasf\n",
    "        self.target = target\n",
    "        self.transform = transform\n",
    "\n",
    "    def __len__(self):\n",
    "\n",
    "        return len(self.target)-self.seq_len\n",
    "    \n",
    "    def __getitem__(self, idx):\n",
    "        if torch.is_tensor(idx):\n",
    "            idx = idx.tolist()\n",
    "        while len(set(self.target[idx:idx+self.seq_len]))>1: #如果取到的時間序列含有2個label\n",
    "            idx+=1 \n",
    "\n",
    "        target = self.target[idx].astype(np.int64)\n",
    "\n",
    "        # target=torch.Tensor(target)\n",
    "        if self.img is not None:\n",
    "            img_name =[]\n",
    "            \n",
    "            # for i in range(12):\n",
    "            #     print(\"Sequence:\", img_name[i])\n",
    "            # print(img_name)\n",
    "            # img_name=Image.fromarray(img_name)\n",
    "            for i in range(idx,(idx+self.seq_len)):\n",
    "                image=Image.open(self.img[i])\n",
    "                \n",
    "                if self.transform:\n",
    "                    image = self.transform(image)\n",
    "                \n",
    "                img_name.append(image)\n",
    "            print(len(img_name))\n",
    "            img_name=torch.stack(img_name)\n",
    "            \n",
    "            # print(img_name)\n",
    "            # image = image.permute(2,1,0)#.long()\n",
    "            # print(\"First batch of image data:\")\n",
    "            # for i in range(12):\n",
    "            #     print(\"Sequence:\", image[i])\n",
    "            \n",
    "            if self.gasf is None:\n",
    "                return img_name,target\n",
    "        if self.gasf is not None:\n",
    "            gasf_name =[]\n",
    "            \n",
    "            # for i in range(12):\n",
    "            #     print(\"Sequence:\", img_name[i])\n",
    "            # print(img_name)\n",
    "            # img_name=Image.fromarray(img_name)\n",
    "            for i in range(idx,(idx+self.seq_len)):\n",
    "                gasf=Image.open(self.gasf[i]).convert('RGB')\n",
    "                \n",
    "                if self.transform:\n",
    "                    gasf = self.transform(gasf)\n",
    "                # print(gasf.size())\n",
    "                gasf_name.append(gasf)\n",
    "            gasf_name=torch.stack(gasf_name)\n",
    "\n",
    "            # print(MQ_idx.size())\n",
    "            if self.img is None:\n",
    "                return gasf_name,target\n",
    "\n",
    "        return gasf_name,img_name,target\n",
    "train_transform = transforms.Compose([\n",
    "    transforms.Resize((56,56)),\n",
    "    transforms.RandomHorizontalFlip(), #這個不會讓圖片增加2倍，0.5的機率圖片翻轉\n",
    "    transforms.ToTensor(),\n",
    "    transforms.Normalize(mean=[0.485, 0.456, 0.406], std=[0.229, 0.224, 0.225])\n",
    "])\n",
    "test_transform = transforms.Compose([\n",
    "    transforms.Resize((56,56)),\n",
    "    transforms.ToTensor(),\n",
    "    transforms.Normalize(mean=[0.485, 0.456, 0.406], std=[0.229, 0.224, 0.225])\n",
    "])"
   ]
  },
  {
   "cell_type": "code",
   "execution_count": 83,
   "metadata": {},
   "outputs": [
    {
     "name": "stdout",
     "output_type": "stream",
     "text": [
      "12\n",
      "12\n",
      "12\n",
      "12\n",
      "12\n",
      "12\n",
      "12\n",
      "12\n",
      "12\n",
      "12\n",
      "12\n",
      "12\n",
      "12\n",
      "12\n",
      "12\n",
      "12\n",
      "torch.Size([16, 12, 3, 56, 56])\n",
      "torch.Size([16, 12, 3, 56, 56])\n",
      "tensor([3, 3, 2, 1, 2, 2, 3, 0, 3, 3, 2, 1, 2, 3, 3, 0])\n"
     ]
    }
   ],
   "source": [
    "tr_data_all=sensordata(y_train,gasf=gasf_train,image=image_train,transform=train_transform)\n",
    "vl_data_all=sensordata(y_valid,gasf=gasf_valid,image=image_valid,transform=test_transform)\n",
    "tt_data_all=sensordata(y_test,gasf=gasf_test,image=image_test,transform=test_transform)\n",
    "\n",
    "tr_loader_all = DataLoader(tr_data_all, shuffle=True, batch_size=config.batch_size)\n",
    "vl_loader_all = DataLoader(vl_data_all, shuffle=False, batch_size=config.batch_size)\n",
    "tt_loader_all=DataLoader(tt_data_all,shuffle=False, batch_size=config.batch_size)\n",
    "gasf,img,labels= next(iter(tr_loader_all))\n",
    "print(gasf.shape)\n",
    "print(img.shape)\n",
    "print(labels)\n"
   ]
  },
  {
   "cell_type": "markdown",
   "metadata": {},
   "source": [
    "## image\n",
    "### model"
   ]
  },
  {
   "cell_type": "code",
   "execution_count": 47,
   "metadata": {},
   "outputs": [],
   "source": [
    "# 3DCNN\n",
    "class SimplifiedVGG19_3D(nn.Module):\n",
    "    def __init__(self, num_classes):\n",
    "        super(SimplifiedVGG19_3D, self).__init__()\n",
    "        self.features = nn.Sequential(\n",
    "            nn.Conv3d(3, 32, kernel_size=3, padding=1),\n",
    "            nn.ReLU(inplace=True),\n",
    "            nn.MaxPool3d(kernel_size=2, stride=2),\n",
    "            # nn.Conv3d(32, 64, kernel_size=3, padding=1),\n",
    "            # nn.ReLU(inplace=True),\n",
    "            # nn.MaxPool3d(kernel_size=2, stride=2),\n",
    "            # nn.Conv3d(64, 128, kernel_size=3, padding=1),\n",
    "            # nn.ReLU(inplace=True),\n",
    "            # nn.MaxPool3d(kernel_size=2, stride=2),\n",
    "        )\n",
    "        self.avgpool = nn.AdaptiveAvgPool3d((1, 4, 4))\n",
    "        self.classifier = nn.Sequential(\n",
    "            nn.Linear(32*4*4 , 64),\n",
    "            nn.ReLU(inplace=True),\n",
    "            nn.Dropout(),\n",
    "            nn.Linear(64, num_classes),\n",
    "        )\n",
    "\n",
    "    def forward(self, x):\n",
    "        x = self.features(x)\n",
    "        x = self.avgpool(x)\n",
    "        x = torch.flatten(x, 1)\n",
    "        x = self.classifier(x)\n",
    "        return x\n"
   ]
  },
  {
   "cell_type": "code",
   "execution_count": 48,
   "metadata": {},
   "outputs": [],
   "source": [
    "# 3Dresnet\n",
    "class BasicBlock3D(nn.Module):\n",
    "    def __init__(self, in_channels, out_channels, stride=1):\n",
    "        super(BasicBlock3D, self).__init__()\n",
    "        self.conv1 = nn.Conv3d(in_channels, out_channels, kernel_size=3, stride=stride, padding=1)\n",
    "        self.bn1 = nn.BatchNorm3d(out_channels)\n",
    "        self.conv2 = nn.Conv3d(out_channels, out_channels, kernel_size=3, stride=1, padding=1)\n",
    "        self.bn2 = nn.BatchNorm3d(out_channels)\n",
    "        self.shortcut = nn.Sequential()\n",
    "        if stride != 1 or in_channels != out_channels:\n",
    "            self.shortcut = nn.Sequential(\n",
    "                nn.Conv3d(in_channels, out_channels, kernel_size=1, stride=stride),\n",
    "                nn.BatchNorm3d(out_channels)\n",
    "            )\n",
    "\n",
    "    def forward(self, x):\n",
    "        out = F.relu(self.bn1(self.conv1(x)))\n",
    "        out = self.bn2(self.conv2(out))\n",
    "        out += self.shortcut(x)\n",
    "        out = F.relu(out)\n",
    "        return out\n",
    "\n",
    "class ResNet3D(nn.Module):\n",
    "    def __init__(self, block, num_blocks, num_classes=4):\n",
    "        super(ResNet3D, self).__init__()\n",
    "        self.in_channels = 64\n",
    "        self.conv1 = nn.Conv3d(3, 64, kernel_size=3, stride=1, padding=1)\n",
    "        self.bn1 = nn.BatchNorm3d(64)\n",
    "        self.layer1 = self._make_layer(block, 64, num_blocks[0], stride=1)\n",
    "        self.layer2 = self._make_layer(block, 128, num_blocks[1], stride=2)\n",
    "        self.fc = nn.Linear(128, num_classes)\n",
    "\n",
    "    def _make_layer(self, block, out_channels, num_blocks, stride):\n",
    "        layers = []\n",
    "        layers.append(block(self.in_channels, out_channels, stride))\n",
    "        self.in_channels = out_channels\n",
    "        for _ in range(1, num_blocks):\n",
    "            layers.append(block(out_channels, out_channels, stride=1))\n",
    "        return nn.Sequential(*layers)\n",
    "\n",
    "    def forward(self, x):\n",
    "        out = F.relu(self.bn1(self.conv1(x)))\n",
    "        out = self.layer1(out)\n",
    "        out = self.layer2(out)\n",
    "        out = F.adaptive_avg_pool3d(out, (1, 1, 1))\n",
    "        out = torch.flatten(out, 1)\n",
    "        out = self.fc(out)\n",
    "        return out\n",
    "\n",
    "def ResNet3D18():\n",
    "    return ResNet3D(BasicBlock3D, [2, 2])"
   ]
  },
  {
   "cell_type": "code",
   "execution_count": 49,
   "metadata": {},
   "outputs": [],
   "source": [
    "class Ensemble3D(nn.Module):\n",
    "    def __init__(self, modelA, modelB, num_classes):\n",
    "        super(Ensemble3D, self).__init__()\n",
    "        self.modelA = modelA\n",
    "        self.modelB = modelB\n",
    "        self.fc = nn.Linear(num_classes * 2, num_classes)\n",
    "\n",
    "    def forward(self, x):\n",
    "        outA = self.modelA(x)\n",
    "        outB = self.modelB(x)\n",
    "        out = torch.cat((outA, outB), dim=1)\n",
    "        out = self.fc(out)\n",
    "        return out\n",
    "\n",
    "# Instantiate the individual models\n",
    "num_classes = 4  # Example number of classes\n",
    "modelA = SimplifiedVGG19_3D(num_classes)\n",
    "modelB = ResNet3D18()\n",
    "\n",
    "# Instantiate the ensemble model\n",
    "model_ft_1= Ensemble3D(modelA, modelB, num_classes).to(config.device)\n",
    "model_ft_2= Ensemble3D(modelA, modelB, num_classes).to(config.device)"
   ]
  },
  {
   "cell_type": "code",
   "execution_count": 50,
   "metadata": {},
   "outputs": [
    {
     "name": "stdout",
     "output_type": "stream",
     "text": [
      "----------------------------------------------------------------\n",
      "        Layer (type)               Output Shape         Param #\n",
      "================================================================\n",
      "            Conv3d-1       [-1, 32, 12, 56, 56]           2,624\n",
      "              ReLU-2       [-1, 32, 12, 56, 56]               0\n",
      "         MaxPool3d-3        [-1, 32, 6, 28, 28]               0\n",
      " AdaptiveAvgPool3d-4          [-1, 32, 1, 4, 4]               0\n",
      "            Linear-5                   [-1, 64]          32,832\n",
      "              ReLU-6                   [-1, 64]               0\n",
      "           Dropout-7                   [-1, 64]               0\n",
      "            Linear-8                    [-1, 4]             260\n",
      "SimplifiedVGG19_3D-9                    [-1, 4]               0\n",
      "           Conv3d-10       [-1, 64, 12, 56, 56]           5,248\n",
      "      BatchNorm3d-11       [-1, 64, 12, 56, 56]             128\n",
      "           Conv3d-12       [-1, 64, 12, 56, 56]         110,656\n",
      "      BatchNorm3d-13       [-1, 64, 12, 56, 56]             128\n",
      "           Conv3d-14       [-1, 64, 12, 56, 56]         110,656\n",
      "      BatchNorm3d-15       [-1, 64, 12, 56, 56]             128\n",
      "     BasicBlock3D-16       [-1, 64, 12, 56, 56]               0\n",
      "           Conv3d-17       [-1, 64, 12, 56, 56]         110,656\n",
      "      BatchNorm3d-18       [-1, 64, 12, 56, 56]             128\n",
      "           Conv3d-19       [-1, 64, 12, 56, 56]         110,656\n",
      "      BatchNorm3d-20       [-1, 64, 12, 56, 56]             128\n",
      "     BasicBlock3D-21       [-1, 64, 12, 56, 56]               0\n",
      "           Conv3d-22       [-1, 128, 6, 28, 28]         221,312\n",
      "      BatchNorm3d-23       [-1, 128, 6, 28, 28]             256\n",
      "           Conv3d-24       [-1, 128, 6, 28, 28]         442,496\n",
      "      BatchNorm3d-25       [-1, 128, 6, 28, 28]             256\n",
      "           Conv3d-26       [-1, 128, 6, 28, 28]           8,320\n",
      "      BatchNorm3d-27       [-1, 128, 6, 28, 28]             256\n",
      "     BasicBlock3D-28       [-1, 128, 6, 28, 28]               0\n",
      "           Conv3d-29       [-1, 128, 6, 28, 28]         442,496\n",
      "      BatchNorm3d-30       [-1, 128, 6, 28, 28]             256\n",
      "           Conv3d-31       [-1, 128, 6, 28, 28]         442,496\n",
      "      BatchNorm3d-32       [-1, 128, 6, 28, 28]             256\n",
      "     BasicBlock3D-33       [-1, 128, 6, 28, 28]               0\n",
      "           Linear-34                    [-1, 4]             516\n",
      "         ResNet3D-35                    [-1, 4]               0\n",
      "           Linear-36                    [-1, 4]              36\n",
      "================================================================\n",
      "Total params: 2,043,180\n",
      "Trainable params: 2,043,180\n",
      "Non-trainable params: 0\n",
      "----------------------------------------------------------------\n",
      "Input size (MB): 0.43\n",
      "Forward/backward pass size (MB): 295.15\n",
      "Params size (MB): 7.79\n",
      "Estimated Total Size (MB): 303.38\n",
      "----------------------------------------------------------------\n"
     ]
    }
   ],
   "source": [
    "from torchsummary import summary\n",
    "summary(model_ft_1,(3,12,56,56))"
   ]
  },
  {
   "cell_type": "markdown",
   "metadata": {},
   "source": [
    "## MQsensor"
   ]
  },
  {
   "cell_type": "markdown",
   "metadata": {},
   "source": [
    "### model"
   ]
  },
  {
   "cell_type": "code",
   "execution_count": 51,
   "metadata": {},
   "outputs": [],
   "source": [
    "# Positional Encoding for Transformer\n",
    "class PositionalEncoding(nn.Module):\n",
    "    def __init__(self, d_model, dropout=0.1, max_len=5000): #d_model:embedding size\n",
    "        super(PositionalEncoding, self).__init__()\n",
    "        self.dropout = nn.Dropout(p=dropout)\n",
    "\n",
    "        pe = torch.zeros(max_len, d_model)\n",
    "        position = torch.arange(0, max_len, dtype=torch.float).unsqueeze(1) #(5000,1)\n",
    "        div_term = torch.exp(torch.arange(0, d_model, 2).float() * (-np.log(10000.0) / d_model))\n",
    "        pe[:, 0::2] = torch.sin(position * div_term) #越後面的dim頻率越小 sin填入偶數行\n",
    "        pe[:, 1::2] = torch.cos(position * div_term) #cos填入奇數行\n",
    "        pe = pe.unsqueeze(0).transpose(0, 1)\n",
    "        self.register_buffer('pe', pe)\n",
    "\n",
    "    def forward(self, x):\n",
    "        x = x + self.pe[:x.size(0), :] #x是time series不用另外embedding\n",
    "        return self.dropout(x)"
   ]
  },
  {
   "cell_type": "code",
   "execution_count": 52,
   "metadata": {},
   "outputs": [],
   "source": [
    "# Model definition using Transformer\n",
    "class TransformerModel(nn.Module):\n",
    "    def __init__(self, input_dim=7, d_model=64, nhead=4, num_layers=2, dropout=0.2):\n",
    "        super(TransformerModel, self).__init__()\n",
    "\n",
    "        self.encoder = nn.Linear(input_dim, d_model) #(16,12,64)\n",
    "        self.pos_encoder = PositionalEncoding(d_model, dropout) #(16,12,64)\n",
    "        encoder_layers = nn.TransformerEncoderLayer(d_model, nhead)\n",
    "        self.transformer_encoder = nn.TransformerEncoder(encoder_layers, num_layers)\n",
    "        self.decoder = nn.Linear(d_model, 4)\n",
    "\n",
    "    def forward(self, x):\n",
    "        x = self.encoder(x)\n",
    "        x = self.pos_encoder(x)\n",
    "        x = self.transformer_encoder(x) #16,12,64\n",
    "        x = self.decoder(x[:, -1, :]) #seq_len的最後一步 #16,4\n",
    "        # print(x.size())\n",
    "        return x\n"
   ]
  },
  {
   "cell_type": "code",
   "execution_count": 53,
   "metadata": {},
   "outputs": [],
   "source": [
    "transformmodel = TransformerModel().to(config.device)"
   ]
  },
  {
   "cell_type": "markdown",
   "metadata": {},
   "source": [
    "## lstm shap\n"
   ]
  },
  {
   "cell_type": "code",
   "execution_count": 54,
   "metadata": {},
   "outputs": [],
   "source": [
    "# for average feature important\n",
    "def visualize_importances(feature_names, importances, title=\"Average Feature Importances\", plot=True, axis_title=\"Features\"):\n",
    "    print(title)\n",
    "    for i in range(len(feature_names)):\n",
    "        print(feature_names[i], \": \", '%.3f'%(importances[i]))\n",
    "    x_pos = (np.arange(len(feature_names)))\n",
    "    if plot:\n",
    "        plt.figure(figsize=(10,6))\n",
    "        plt.bar(x_pos, importances, align='center')\n",
    "        plt.xticks(x_pos, feature_names, wrap=True)\n",
    "        plt.xlabel(axis_title)\n",
    "        plt.title(title)\n",
    "        plt.show()"
   ]
  },
  {
   "cell_type": "markdown",
   "metadata": {},
   "source": [
    "## multimodal"
   ]
  },
  {
   "cell_type": "code",
   "execution_count": 55,
   "metadata": {},
   "outputs": [],
   "source": [
    "class CombinedFCModel(nn.Module):\n",
    "    def __init__(self,\n",
    "                 model_dim=8,\n",
    "                 drop_and_BN='drop-BN',\n",
    "                 num_labels=4,\n",
    "                 dropout=0.2):\n",
    "\n",
    "        super(CombinedFCModel, self).__init__()\n",
    "\n",
    "        self.model_dim = model_dim\n",
    "        # self.drop_and_BN = drop_and_BN\n",
    "\n",
    "        # self.dropout = nn.Dropout(dropout)\n",
    "\n",
    "        #sequence\n",
    "        self.gasf=model_ft_2\n",
    "        # self.bn_sequence = nn.BatchNorm1d(model_dim)\n",
    "\n",
    "        #image\n",
    "        self.vgg=model_ft_1\n",
    "        # self.bn_vgg = nn.BatchNorm1d(model_dim)\n",
    "\n",
    "        #classifier\n",
    "        self.linear1 = nn.Linear(model_dim, 16)\n",
    "        # self.bn_1 = nn.BatchNorm1d(16)\n",
    "        self.linear2 = nn.Linear(16, num_labels)\n",
    "        self.softmax = nn.Softmax(dim=1)\n",
    "\n",
    "    # def drop_BN_layer(self, x, part='seq'):\n",
    "    #     if part == 'seq':\n",
    "    #         bn = self.bn_sequence\n",
    "    #     elif part == 'vgg':\n",
    "    #         bn = self.bn_vgg\n",
    "\n",
    "    #     if self.drop_and_BN == 'drop-BN':\n",
    "    #         x = self.dropout(x)\n",
    "    #         x = bn(x)\n",
    "    #     elif self.drop_and_BN == 'BN-drop':\n",
    "    #         x = bn(x)\n",
    "    #         x = self.dropout(x)\n",
    "    #     elif self.drop_and_BN == 'drop-only':\n",
    "    #         x = self.dropout(x)\n",
    "    #     elif self.drop_and_BN == 'BN-only':\n",
    "    #         x = bn(x)\n",
    "    #     elif self.drop_and_BN == 'none':\n",
    "    #         pass\n",
    "\n",
    "    #     return x\n",
    "\n",
    "    def forward(self, image,gasf):\n",
    "\n",
    "\n",
    "        #visual feature\n",
    "        \n",
    "        image=image.transpose(1, 2)\n",
    "        # print(image.size())\n",
    "        output = self.vgg(image)\n",
    "        # output = F.relu(self.linear_image(output))\n",
    "        # output = self.drop_BN_layer(output, part='vgg')\n",
    "\n",
    "\n",
    "        #sequence\n",
    "        gasf=gasf.transpose(1, 2)\n",
    "        # print(image.size())\n",
    "        se_out = self.gasf(gasf)\n",
    "        # se_out=self.transformer(sensor)\n",
    "        # print(se_out.size())\n",
    "        # se_out=self.drop_BN_layer(se_out,part=\"seq\")\n",
    "\n",
    "        output = torch.cat([output, se_out], dim=1)\n",
    "        \n",
    "\n",
    "        output = torch.relu(self.linear1(output))\n",
    "        # output = self.dropout(output)\n",
    "        # output = self.bn_1(output)\n",
    "        output = self.linear2(output)  #(16,4)\n",
    "        # print('output_size:{}'.format(output.shape))\n",
    "        y_pred_prob = self.softmax(output)\n",
    "\n",
    "        return output, y_pred_prob"
   ]
  },
  {
   "cell_type": "code",
   "execution_count": 56,
   "metadata": {},
   "outputs": [],
   "source": [
    "combined_model = CombinedFCModel().to(config.device)"
   ]
  },
  {
   "cell_type": "code",
   "execution_count": 57,
   "metadata": {},
   "outputs": [],
   "source": [
    "class BaggingEnsemble(nn.Module):\n",
    "    def __init__(self, base_model_class, num_models, *args, **kwargs):\n",
    "        super(BaggingEnsemble, self).__init__()\n",
    "        self.models = nn.ModuleList([base_model_class(*args, **kwargs) for _ in range(num_models)])\n",
    "        self.num_models = num_models\n",
    "\n",
    "    def forward(self, image, sensor):\n",
    "        outputs = []\n",
    "        y_pred_probs = []\n",
    "        for model in self.models:\n",
    "            output, y_pred_prob = model(image, sensor)\n",
    "            outputs.append(output)\n",
    "            y_pred_probs.append(y_pred_prob)\n",
    "\n",
    "        # Average predictions\n",
    "        avg_output = torch.mean(torch.stack(outputs), dim=0)\n",
    "        avg_y_pred_prob = torch.mean(torch.stack(y_pred_probs), dim=0)\n",
    "\n",
    "        return avg_output, avg_y_pred_prob\n"
   ]
  },
  {
   "cell_type": "code",
   "execution_count": 58,
   "metadata": {},
   "outputs": [],
   "source": [
    "def train_combined(model,train_loader,device, optimizer, loss_fn):\n",
    "    model.train()\n",
    "\n",
    "    n_corrects = 0\n",
    "    total = 0\n",
    "    train_loss = 0.\n",
    "    step = 0\n",
    "    for idx, (sensor_data,img_data,label) in enumerate(train_loader):\n",
    "        img_data= img_data.to(device)\n",
    "        sensor_data=sensor_data.to(device)\n",
    "        labels=label.to(device)\n",
    "        optimizer.zero_grad()\n",
    "\n",
    "        output_combined = model(img_data,sensor_data)\n",
    "        loss_combined = loss_fn(output_combined[0], labels)\n",
    "\n",
    "        _, predictions = torch.max(output_combined[1], dim=1)\n",
    "        n_corrects += predictions.eq(labels).sum().item()\n",
    "        total += labels.size(0)\n",
    "        train_loss += loss_combined.item()\n",
    "\n",
    "\n",
    "        loss_combined.backward()\n",
    "        optimizer.step()\n",
    "\n",
    "        current_lr = optimizer.param_groups[0][\"lr\"]\n",
    "        step += 1\n",
    "\n",
    "        train_accuracy = 100. * n_corrects/total\n",
    "\n",
    "        avg_train_loss = train_loss/(idx+1)\n",
    "        if (idx+1) % 16 == 0:\n",
    "            print(f'Batch: [{idx+1}/{len(train_loader)}], Training Loss: {avg_train_loss:.3f} | Training Acc: {train_accuracy:.2f}% | lr: {current_lr:.5f}')\n",
    "\n",
    "    avg_train_loss = train_loss/(step+1)\n",
    "    train_accuracy = 100. * n_corrects/total\n",
    "    return avg_train_loss, train_accuracy\n",
    "\n",
    "def valid_combined(model,valid_loader,device, loss_fn):\n",
    "    model.eval()\n",
    "\n",
    "\n",
    "    n_corrects = 0\n",
    "    total = 0\n",
    "    valid_loss = 0.\n",
    "    for idx, (sensor_data,img_data,label) in enumerate(valid_loader):\n",
    "        with torch.no_grad():\n",
    "            img_data= img_data.to(device)\n",
    "            sensor_data=sensor_data.to(device)\n",
    "            labels=label.to(device)\n",
    "\n",
    "\n",
    "        output_combined = model(img_data,sensor_data)\n",
    "        loss_combined = loss_fn(output_combined[0], labels)\n",
    "        _, predictions = torch.max(output_combined[1], dim=1)\n",
    "        n_corrects += predictions.eq(labels).sum().item()\n",
    "        total += labels.size(0)\n",
    "        valid_loss += loss_combined.item()\n",
    "        idx += 1\n",
    "    avg_valid_loss = valid_loss/(idx+1)\n",
    "    valid_accuracy = 100 * n_corrects/total\n",
    "    return avg_valid_loss, valid_accuracy,model\n",
    "from sklearn.metrics import accuracy_score\n",
    "def evaluate_model(model, test_loader):\n",
    "    all_preds = []\n",
    "    all_labels = []\n",
    "    \n",
    "    with torch.no_grad():\n",
    "        for images, labels in test_loader:\n",
    "            images, labels = images.to(config.device), labels.to(config.device)\n",
    "            outputs = model(images)\n",
    "            _, preds = torch.max(outputs, 1)\n",
    "            all_preds.extend(preds.cpu().numpy())\n",
    "            all_labels.extend(labels.cpu().numpy())\n",
    "    \n",
    "    accuracy = accuracy_score(all_labels, all_preds)\n",
    "    return accuracy\n",
    "def test_combined(model, test_loader, device):\n",
    "    model.eval()\n",
    "\n",
    "    n_corrects = 0\n",
    "    total = 0\n",
    "    all_predictions = []\n",
    "    all_labels = []\n",
    "\n",
    "    for idx, (sensor_data, img_data, label) in enumerate(test_loader):\n",
    "\n",
    "        with torch.no_grad():\n",
    "            img_data = img_data.to(device)\n",
    "            sensor_data = sensor_data.to(device)\n",
    "            labels = label.to(device)\n",
    "\n",
    "        output_combined = model(img_data, sensor_data)\n",
    "\n",
    "        _, predictions = torch.max(output_combined[1], dim=1)\n",
    "        n_corrects += predictions.eq(labels).sum().item()\n",
    "        total += labels.size(0)\n",
    "\n",
    "        all_predictions.extend(predictions.cpu().numpy())\n",
    "        all_labels.extend(labels.cpu().numpy())\n",
    "\n",
    "    valid_accuracy = 100 * n_corrects / total\n",
    "    # Compute confusion matrix\n",
    "    confusion_mat = confusion_matrix(all_labels, all_predictions)\n",
    "\n",
    "    # Plot confusion matrix\n",
    "    plt.figure(figsize=(6, 4))\n",
    "    sns.set(font_scale=1.5)  # Adjust font size\n",
    "    sns.heatmap(confusion_mat, annot=True, fmt=\"d\", cmap=\"Blues\", cbar=False,\n",
    "                xticklabels=range(4), yticklabels=range(4))\n",
    "    plt.xlabel(\"Predicted Label\")\n",
    "    plt.ylabel(\"True Label\")\n",
    "    plt.title(\"Confusion Matrix\")\n",
    "    plt.show()\n",
    "\n",
    "    # Compute precision, recall, and F1 score\n",
    "    precision, recall, f1_score, _ = precision_recall_fscore_support(all_labels, all_predictions, average=None)\n",
    "    \n",
    "    return valid_accuracy, confusion_mat, precision, recall, f1_score\n"
   ]
  },
  {
   "cell_type": "code",
   "execution_count": 59,
   "metadata": {},
   "outputs": [],
   "source": [
    "class EarlyStopper:\n",
    "    def __init__(self, patience=1, min_delta=0):\n",
    "        self.patience = patience\n",
    "        self.min_delta = min_delta\n",
    "        self.counter = 0\n",
    "        self.min_validation_loss = np.inf\n",
    "\n",
    "    def early_stop(self, validation_loss,model):\n",
    "        if validation_loss < self.min_validation_loss:\n",
    "            self.min_validation_loss = validation_loss\n",
    "            self.counter = 0\n",
    "            torch.save(model.state_dict(), 'models/two_img_ensemble.pth')\n",
    "            print('Saving model (loss = {:.4f})'\n",
    "            .format(self.min_validation_loss))\n",
    "        elif validation_loss > (self.min_validation_loss + self.min_delta):\n",
    "            self.counter += 1\n",
    "            print(f\"|||early stop:{self.counter}\")\n",
    "            if self.counter >= self.patience:\n",
    "                return True\n",
    "        return False"
   ]
  },
  {
   "cell_type": "code",
   "execution_count": 60,
   "metadata": {},
   "outputs": [],
   "source": [
    "criterion = nn.CrossEntropyLoss()\n",
    "# ======multimodal=====\n",
    "optimizer = optim.SGD(list(model_ft_1.parameters()) + list(model_ft_2.parameters()) +\n",
    "                      list(combined_model.parameters()), lr=0.0005, momentum=0.9)\n",
    "scheduler = lr_scheduler.ReduceLROnPlateau(optimizer, 'min',\n",
    "                                           factor=0.5, patience=7, verbose=True)"
   ]
  },
  {
   "cell_type": "code",
   "execution_count": 61,
   "metadata": {},
   "outputs": [
    {
     "data": {
      "text/html": [
       "wandb version 0.17.3 is available!  To upgrade, please run:\n",
       " $ pip install wandb --upgrade"
      ],
      "text/plain": [
       "<IPython.core.display.HTML object>"
      ]
     },
     "metadata": {},
     "output_type": "display_data"
    },
    {
     "data": {
      "text/html": [
       "Tracking run with wandb version 0.16.6"
      ],
      "text/plain": [
       "<IPython.core.display.HTML object>"
      ]
     },
     "metadata": {},
     "output_type": "display_data"
    },
    {
     "data": {
      "text/html": [
       "Run data is saved locally in <code>/home/server4090-3/homework_pm2.5/gas/3D/wandb/run-20240625_113438-u3d1lgac</code>"
      ],
      "text/plain": [
       "<IPython.core.display.HTML object>"
      ]
     },
     "metadata": {},
     "output_type": "display_data"
    },
    {
     "data": {
      "text/html": [
       "Syncing run <strong><a href='https://wandb.ai/312704006/VGG19_TRANSFORMER_twoimage/runs/u3d1lgac' target=\"_blank\">2024-06-25 11:34:38</a></strong> to <a href='https://wandb.ai/312704006/VGG19_TRANSFORMER_twoimage' target=\"_blank\">Weights & Biases</a> (<a href='https://wandb.me/run' target=\"_blank\">docs</a>)<br/>"
      ],
      "text/plain": [
       "<IPython.core.display.HTML object>"
      ]
     },
     "metadata": {},
     "output_type": "display_data"
    },
    {
     "data": {
      "text/html": [
       " View project at <a href='https://wandb.ai/312704006/VGG19_TRANSFORMER_twoimage' target=\"_blank\">https://wandb.ai/312704006/VGG19_TRANSFORMER_twoimage</a>"
      ],
      "text/plain": [
       "<IPython.core.display.HTML object>"
      ]
     },
     "metadata": {},
     "output_type": "display_data"
    },
    {
     "data": {
      "text/html": [
       " View run at <a href='https://wandb.ai/312704006/VGG19_TRANSFORMER_twoimage/runs/u3d1lgac' target=\"_blank\">https://wandb.ai/312704006/VGG19_TRANSFORMER_twoimage/runs/u3d1lgac</a>"
      ],
      "text/plain": [
       "<IPython.core.display.HTML object>"
      ]
     },
     "metadata": {},
     "output_type": "display_data"
    },
    {
     "name": "stdout",
     "output_type": "stream",
     "text": [
      "Batch: [16/266], Training Loss: 1.392 | Training Acc: 28.91% | lr: 0.00050\n",
      "Batch: [32/266], Training Loss: 1.372 | Training Acc: 32.81% | lr: 0.00050\n",
      "Batch: [48/266], Training Loss: 1.357 | Training Acc: 35.81% | lr: 0.00050\n",
      "Batch: [64/266], Training Loss: 1.340 | Training Acc: 37.79% | lr: 0.00050\n",
      "Batch: [80/266], Training Loss: 1.325 | Training Acc: 38.75% | lr: 0.00050\n",
      "Batch: [96/266], Training Loss: 1.307 | Training Acc: 39.91% | lr: 0.00050\n",
      "Batch: [112/266], Training Loss: 1.287 | Training Acc: 40.46% | lr: 0.00050\n",
      "Batch: [128/266], Training Loss: 1.268 | Training Acc: 41.70% | lr: 0.00050\n",
      "Batch: [144/266], Training Loss: 1.254 | Training Acc: 42.01% | lr: 0.00050\n",
      "Batch: [160/266], Training Loss: 1.236 | Training Acc: 42.54% | lr: 0.00050\n",
      "Batch: [176/266], Training Loss: 1.217 | Training Acc: 43.54% | lr: 0.00050\n",
      "Batch: [192/266], Training Loss: 1.195 | Training Acc: 44.63% | lr: 0.00050\n",
      "Batch: [208/266], Training Loss: 1.179 | Training Acc: 45.34% | lr: 0.00050\n",
      "Batch: [224/266], Training Loss: 1.158 | Training Acc: 46.71% | lr: 0.00050\n",
      "Batch: [240/266], Training Loss: 1.134 | Training Acc: 48.41% | lr: 0.00050\n",
      "Batch: [256/266], Training Loss: 1.107 | Training Acc: 50.56% | lr: 0.00050\n",
      "[1/150] | validation loss: 8.6356 | validation accuracy: 26.04%\n",
      "Saving model (loss = 8.6356)\n",
      "Batch: [16/266], Training Loss: 0.593 | Training Acc: 80.08% | lr: 0.00050\n",
      "Batch: [32/266], Training Loss: 0.575 | Training Acc: 79.88% | lr: 0.00050\n",
      "Batch: [48/266], Training Loss: 0.554 | Training Acc: 81.25% | lr: 0.00050\n",
      "Batch: [64/266], Training Loss: 0.517 | Training Acc: 83.01% | lr: 0.00050\n",
      "Batch: [80/266], Training Loss: 0.504 | Training Acc: 83.12% | lr: 0.00050\n",
      "Batch: [96/266], Training Loss: 0.475 | Training Acc: 84.51% | lr: 0.00050\n",
      "Batch: [112/266], Training Loss: 0.456 | Training Acc: 84.93% | lr: 0.00050\n",
      "Batch: [128/266], Training Loss: 0.454 | Training Acc: 84.52% | lr: 0.00050\n",
      "Batch: [144/266], Training Loss: 0.440 | Training Acc: 85.29% | lr: 0.00050\n",
      "Batch: [160/266], Training Loss: 0.431 | Training Acc: 85.20% | lr: 0.00050\n",
      "Batch: [176/266], Training Loss: 0.419 | Training Acc: 85.69% | lr: 0.00050\n",
      "Batch: [192/266], Training Loss: 0.410 | Training Acc: 85.87% | lr: 0.00050\n",
      "Batch: [208/266], Training Loss: 0.402 | Training Acc: 86.03% | lr: 0.00050\n",
      "Batch: [224/266], Training Loss: 0.392 | Training Acc: 86.22% | lr: 0.00050\n",
      "Batch: [240/266], Training Loss: 0.391 | Training Acc: 86.12% | lr: 0.00050\n",
      "Batch: [256/266], Training Loss: 0.381 | Training Acc: 86.43% | lr: 0.00050\n",
      "[2/150] | validation loss: 4.5287 | validation accuracy: 29.85%\n",
      "Saving model (loss = 4.5287)\n",
      "Batch: [16/266], Training Loss: 0.231 | Training Acc: 91.80% | lr: 0.00050\n",
      "Batch: [32/266], Training Loss: 0.221 | Training Acc: 91.21% | lr: 0.00050\n",
      "Batch: [48/266], Training Loss: 0.213 | Training Acc: 91.67% | lr: 0.00050\n",
      "Batch: [64/266], Training Loss: 0.227 | Training Acc: 91.11% | lr: 0.00050\n",
      "Batch: [80/266], Training Loss: 0.234 | Training Acc: 90.70% | lr: 0.00050\n",
      "Batch: [96/266], Training Loss: 0.235 | Training Acc: 90.69% | lr: 0.00050\n",
      "Batch: [112/266], Training Loss: 0.226 | Training Acc: 91.13% | lr: 0.00050\n",
      "Batch: [128/266], Training Loss: 0.218 | Training Acc: 91.70% | lr: 0.00050\n",
      "Batch: [144/266], Training Loss: 0.211 | Training Acc: 92.14% | lr: 0.00050\n",
      "Batch: [160/266], Training Loss: 0.207 | Training Acc: 92.23% | lr: 0.00050\n",
      "Batch: [176/266], Training Loss: 0.201 | Training Acc: 92.40% | lr: 0.00050\n",
      "Batch: [192/266], Training Loss: 0.201 | Training Acc: 92.35% | lr: 0.00050\n",
      "Batch: [208/266], Training Loss: 0.199 | Training Acc: 92.49% | lr: 0.00050\n",
      "Batch: [224/266], Training Loss: 0.203 | Training Acc: 92.41% | lr: 0.00050\n",
      "Batch: [240/266], Training Loss: 0.203 | Training Acc: 92.40% | lr: 0.00050\n",
      "Batch: [256/266], Training Loss: 0.205 | Training Acc: 92.36% | lr: 0.00050\n",
      "[3/150] | validation loss: 11.8502 | validation accuracy: 28.66%\n",
      "|||early stop:1\n"
     ]
    },
    {
     "ename": "KeyboardInterrupt",
     "evalue": "",
     "output_type": "error",
     "traceback": [
      "\u001b[0;31m---------------------------------------------------------------------------\u001b[0m",
      "\u001b[0;31mKeyboardInterrupt\u001b[0m                         Traceback (most recent call last)",
      "Cell \u001b[0;32mIn[61], line 15\u001b[0m\n\u001b[1;32m     11\u001b[0m combined_model\u001b[38;5;241m.\u001b[39mrun_id \u001b[38;5;241m=\u001b[39m wandb\u001b[38;5;241m.\u001b[39mrun\u001b[38;5;241m.\u001b[39mid\n\u001b[1;32m     13\u001b[0m \u001b[38;5;28;01mfor\u001b[39;00m epoch \u001b[38;5;129;01min\u001b[39;00m \u001b[38;5;28mrange\u001b[39m(config\u001b[38;5;241m.\u001b[39mepochs):\n\u001b[0;32m---> 15\u001b[0m     train_loss, train_accuracy \u001b[38;5;241m=\u001b[39m \u001b[43mtrain_combined\u001b[49m\u001b[43m(\u001b[49m\u001b[43mcombined_model\u001b[49m\u001b[43m,\u001b[49m\u001b[43mtr_loader_all\u001b[49m\u001b[43m,\u001b[49m\u001b[43m \u001b[49m\u001b[43mconfig\u001b[49m\u001b[38;5;241;43m.\u001b[39;49m\u001b[43mdevice\u001b[49m\u001b[43m,\u001b[49m\u001b[43m \u001b[49m\u001b[43moptimizer\u001b[49m\u001b[43m,\u001b[49m\u001b[43m \u001b[49m\u001b[43mconfig\u001b[49m\u001b[38;5;241;43m.\u001b[39;49m\u001b[43mcriterion\u001b[49m\u001b[43m)\u001b[49m\n\u001b[1;32m     16\u001b[0m     valid_loss, valid_accuracy,model\u001b[38;5;241m=\u001b[39m valid_combined(combined_model,vl_loader_all, config\u001b[38;5;241m.\u001b[39mdevice, config\u001b[38;5;241m.\u001b[39mcriterion)\n\u001b[1;32m     17\u001b[0m     \u001b[38;5;28mprint\u001b[39m(\u001b[38;5;124mf\u001b[39m\u001b[38;5;124m'\u001b[39m\u001b[38;5;124m[\u001b[39m\u001b[38;5;132;01m{\u001b[39;00mepoch\u001b[38;5;241m+\u001b[39m\u001b[38;5;241m1\u001b[39m\u001b[38;5;132;01m}\u001b[39;00m\u001b[38;5;124m/\u001b[39m\u001b[38;5;132;01m{\u001b[39;00mconfig\u001b[38;5;241m.\u001b[39mepochs\u001b[38;5;132;01m}\u001b[39;00m\u001b[38;5;124m] | validation loss: \u001b[39m\u001b[38;5;132;01m{\u001b[39;00mvalid_loss\u001b[38;5;132;01m:\u001b[39;00m\u001b[38;5;124m.4f\u001b[39m\u001b[38;5;132;01m}\u001b[39;00m\u001b[38;5;124m | validation accuracy: \u001b[39m\u001b[38;5;132;01m{\u001b[39;00mvalid_accuracy\u001b[38;5;132;01m:\u001b[39;00m\u001b[38;5;124m.2f\u001b[39m\u001b[38;5;132;01m}\u001b[39;00m\u001b[38;5;124m%\u001b[39m\u001b[38;5;124m'\u001b[39m)\n",
      "Cell \u001b[0;32mIn[58], line 18\u001b[0m, in \u001b[0;36mtrain_combined\u001b[0;34m(model, train_loader, device, optimizer, loss_fn)\u001b[0m\n\u001b[1;32m     15\u001b[0m loss_combined \u001b[38;5;241m=\u001b[39m loss_fn(output_combined[\u001b[38;5;241m0\u001b[39m], labels)\n\u001b[1;32m     17\u001b[0m _, predictions \u001b[38;5;241m=\u001b[39m torch\u001b[38;5;241m.\u001b[39mmax(output_combined[\u001b[38;5;241m1\u001b[39m], dim\u001b[38;5;241m=\u001b[39m\u001b[38;5;241m1\u001b[39m)\n\u001b[0;32m---> 18\u001b[0m n_corrects \u001b[38;5;241m+\u001b[39m\u001b[38;5;241m=\u001b[39m \u001b[43mpredictions\u001b[49m\u001b[38;5;241;43m.\u001b[39;49m\u001b[43meq\u001b[49m\u001b[43m(\u001b[49m\u001b[43mlabels\u001b[49m\u001b[43m)\u001b[49m\u001b[38;5;241;43m.\u001b[39;49m\u001b[43msum\u001b[49m\u001b[43m(\u001b[49m\u001b[43m)\u001b[49m\u001b[38;5;241;43m.\u001b[39;49m\u001b[43mitem\u001b[49m\u001b[43m(\u001b[49m\u001b[43m)\u001b[49m\n\u001b[1;32m     19\u001b[0m total \u001b[38;5;241m+\u001b[39m\u001b[38;5;241m=\u001b[39m labels\u001b[38;5;241m.\u001b[39msize(\u001b[38;5;241m0\u001b[39m)\n\u001b[1;32m     20\u001b[0m train_loss \u001b[38;5;241m+\u001b[39m\u001b[38;5;241m=\u001b[39m loss_combined\u001b[38;5;241m.\u001b[39mitem()\n",
      "\u001b[0;31mKeyboardInterrupt\u001b[0m: "
     ]
    }
   ],
   "source": [
    "# -------------------------\n",
    "# ---- train model ----\n",
    "# -------------------------\n",
    "early_stopper = EarlyStopper(patience=10)\n",
    "epoch_nums=[]\n",
    "training_loss=[]\n",
    "validation_loss=[]\n",
    "\n",
    "nowtime = datetime.datetime.now().strftime('%Y-%m-%d %H:%M:%S')\n",
    "wandb.init(project=config.project_name, config = config.__dict__, name = nowtime, save_code=True)\n",
    "combined_model.run_id = wandb.run.id\n",
    "\n",
    "for epoch in range(config.epochs):\n",
    "    \n",
    "    train_loss, train_accuracy = train_combined(combined_model,tr_loader_all, config.device, optimizer, config.criterion)\n",
    "    valid_loss, valid_accuracy,model= valid_combined(combined_model,vl_loader_all, config.device, config.criterion)\n",
    "    print(f'[{epoch+1}/{config.epochs}] | validation loss: {valid_loss:.4f} | validation accuracy: {valid_accuracy:.2f}%')\n",
    "    scheduler.step(valid_loss)\n",
    "    epoch_nums.append(epoch)\n",
    "    training_loss.append(train_loss)\n",
    "    validation_loss.append(valid_loss)\n",
    "    if early_stopper.early_stop(valid_loss,model):\n",
    "        break\n",
    "    \n",
    "    wandb.log({'epoch': epoch, 'train_loss': train_loss, 'valid_loss': valid_loss,\"train_acc\":train_accuracy,\"valid_acc\":valid_accuracy})\n",
    "\n",
    "wandb.finish()\n"
   ]
  },
  {
   "cell_type": "code",
   "execution_count": null,
   "metadata": {},
   "outputs": [
    {
     "data": {
      "image/png": "[encoded data removed]",
      "text/plain": [
       "<Figure size 600x400 with 1 Axes>"
      ]
     },
     "metadata": {},
     "output_type": "display_data"
    },
    {
     "name": "stdout",
     "output_type": "stream",
     "text": [
      "test acc:51.3407\n"
     ]
    }
   ],
   "source": [
    "test_acc, confusion_mat, precision, recall, f1_score= test_combined(combined_model,tt_loader_all, config.device)\n",
    "print(f\"test acc:{test_acc:.4f}\")"
   ]
  },
  {
   "cell_type": "code",
   "execution_count": null,
   "metadata": {},
   "outputs": [
    {
     "data": {
      "image/png": "[encoded data removed]",
      "text/plain": [
       "<Figure size 600x400 with 1 Axes>"
      ]
     },
     "metadata": {},
     "output_type": "display_data"
    },
    {
     "name": "stdout",
     "output_type": "stream",
     "text": [
      "test acc:99.8423\n"
     ]
    }
   ],
   "source": [
    "# del combined_model\n",
    "combined_model =  CombinedFCModel().to(config.device)\n",
    "ckpt = torch.load('models/img_ensemble.pth', map_location='cpu')  # Load your best model\n",
    "combined_model.load_state_dict(ckpt)\n",
    "test_acc, confusion_mat, precision, recall, f1_score= test_combined(combined_model,tt_loader_all, config.device)\n",
    "print(f\"test acc:{test_acc:.4f}\")"
   ]
  },
  {
   "cell_type": "code",
   "execution_count": null,
   "metadata": {},
   "outputs": [
    {
     "data": {
      "text/plain": [
       "CombinedFCModel(\n",
       "  (transformer): TransformerModel(\n",
       "    (encoder): Linear(in_features=7, out_features=64, bias=True)\n",
       "    (pos_encoder): PositionalEncoding(\n",
       "      (dropout): Dropout(p=0.2, inplace=False)\n",
       "    )\n",
       "    (transformer_encoder): TransformerEncoder(\n",
       "      (layers): ModuleList(\n",
       "        (0-1): 2 x TransformerEncoderLayer(\n",
       "          (self_attn): MultiheadAttention(\n",
       "            (out_proj): NonDynamicallyQuantizableLinear(in_features=64, out_features=64, bias=True)\n",
       "          )\n",
       "          (linear1): Linear(in_features=64, out_features=2048, bias=True)\n",
       "          (dropout): Dropout(p=0.1, inplace=False)\n",
       "          (linear2): Linear(in_features=2048, out_features=64, bias=True)\n",
       "          (norm1): LayerNorm((64,), eps=1e-05, elementwise_affine=True)\n",
       "          (norm2): LayerNorm((64,), eps=1e-05, elementwise_affine=True)\n",
       "          (dropout1): Dropout(p=0.1, inplace=False)\n",
       "          (dropout2): Dropout(p=0.1, inplace=False)\n",
       "        )\n",
       "      )\n",
       "    )\n",
       "    (decoder): Linear(in_features=64, out_features=4, bias=True)\n",
       "  )\n",
       "  (vgg): Ensemble3D(\n",
       "    (modelA): SimplifiedVGG19_3D(\n",
       "      (features): Sequential(\n",
       "        (0): Conv3d(3, 32, kernel_size=(3, 3, 3), stride=(1, 1, 1), padding=(1, 1, 1))\n",
       "        (1): ReLU(inplace=True)\n",
       "        (2): MaxPool3d(kernel_size=2, stride=2, padding=0, dilation=1, ceil_mode=False)\n",
       "      )\n",
       "      (avgpool): AdaptiveAvgPool3d(output_size=(1, 4, 4))\n",
       "      (classifier): Sequential(\n",
       "        (0): Linear(in_features=512, out_features=64, bias=True)\n",
       "        (1): ReLU(inplace=True)\n",
       "        (2): Dropout(p=0.5, inplace=False)\n",
       "        (3): Linear(in_features=64, out_features=4, bias=True)\n",
       "      )\n",
       "    )\n",
       "    (modelB): ResNet3D(\n",
       "      (conv1): Conv3d(3, 64, kernel_size=(3, 3, 3), stride=(1, 1, 1), padding=(1, 1, 1))\n",
       "      (bn1): BatchNorm3d(64, eps=1e-05, momentum=0.1, affine=True, track_running_stats=True)\n",
       "      (layer1): Sequential(\n",
       "        (0): BasicBlock3D(\n",
       "          (conv1): Conv3d(64, 64, kernel_size=(3, 3, 3), stride=(1, 1, 1), padding=(1, 1, 1))\n",
       "          (bn1): BatchNorm3d(64, eps=1e-05, momentum=0.1, affine=True, track_running_stats=True)\n",
       "          (conv2): Conv3d(64, 64, kernel_size=(3, 3, 3), stride=(1, 1, 1), padding=(1, 1, 1))\n",
       "          (bn2): BatchNorm3d(64, eps=1e-05, momentum=0.1, affine=True, track_running_stats=True)\n",
       "          (shortcut): Sequential()\n",
       "        )\n",
       "        (1): BasicBlock3D(\n",
       "          (conv1): Conv3d(64, 64, kernel_size=(3, 3, 3), stride=(1, 1, 1), padding=(1, 1, 1))\n",
       "          (bn1): BatchNorm3d(64, eps=1e-05, momentum=0.1, affine=True, track_running_stats=True)\n",
       "          (conv2): Conv3d(64, 64, kernel_size=(3, 3, 3), stride=(1, 1, 1), padding=(1, 1, 1))\n",
       "          (bn2): BatchNorm3d(64, eps=1e-05, momentum=0.1, affine=True, track_running_stats=True)\n",
       "          (shortcut): Sequential()\n",
       "        )\n",
       "      )\n",
       "      (layer2): Sequential(\n",
       "        (0): BasicBlock3D(\n",
       "          (conv1): Conv3d(64, 128, kernel_size=(3, 3, 3), stride=(2, 2, 2), padding=(1, 1, 1))\n",
       "          (bn1): BatchNorm3d(128, eps=1e-05, momentum=0.1, affine=True, track_running_stats=True)\n",
       "          (conv2): Conv3d(128, 128, kernel_size=(3, 3, 3), stride=(1, 1, 1), padding=(1, 1, 1))\n",
       "          (bn2): BatchNorm3d(128, eps=1e-05, momentum=0.1, affine=True, track_running_stats=True)\n",
       "          (shortcut): Sequential(\n",
       "            (0): Conv3d(64, 128, kernel_size=(1, 1, 1), stride=(2, 2, 2))\n",
       "            (1): BatchNorm3d(128, eps=1e-05, momentum=0.1, affine=True, track_running_stats=True)\n",
       "          )\n",
       "        )\n",
       "        (1): BasicBlock3D(\n",
       "          (conv1): Conv3d(128, 128, kernel_size=(3, 3, 3), stride=(1, 1, 1), padding=(1, 1, 1))\n",
       "          (bn1): BatchNorm3d(128, eps=1e-05, momentum=0.1, affine=True, track_running_stats=True)\n",
       "          (conv2): Conv3d(128, 128, kernel_size=(3, 3, 3), stride=(1, 1, 1), padding=(1, 1, 1))\n",
       "          (bn2): BatchNorm3d(128, eps=1e-05, momentum=0.1, affine=True, track_running_stats=True)\n",
       "          (shortcut): Sequential()\n",
       "        )\n",
       "      )\n",
       "      (fc): Linear(in_features=128, out_features=4, bias=True)\n",
       "    )\n",
       "    (fc): Linear(in_features=8, out_features=4, bias=True)\n",
       "  )\n",
       "  (linear1): Linear(in_features=8, out_features=16, bias=True)\n",
       "  (linear2): Linear(in_features=16, out_features=4, bias=True)\n",
       "  (softmax): Softmax(dim=1)\n",
       ")"
      ]
     },
     "execution_count": 24,
     "metadata": {},
     "output_type": "execute_result"
    }
   ],
   "source": [
    "combined_model"
   ]
  },
  {
   "cell_type": "code",
   "execution_count": 29,
   "metadata": {},
   "outputs": [
    {
     "data": {
      "text/plain": [
       "(array([1.        , 0.99378882, 1.        , 1.        ]),\n",
       " array([0.99352751, 1.        , 1.        , 1.        ]),\n",
       " array([0.99675325, 0.99688474, 1.        , 1.        ]))"
      ]
     },
     "execution_count": 29,
     "metadata": {},
     "output_type": "execute_result"
    }
   ],
   "source": [
    "precision, recall, f1_score"
   ]
  },
  {
   "cell_type": "markdown",
   "metadata": {},
   "source": [
    "## Explainable"
   ]
  },
  {
   "cell_type": "code",
   "execution_count": 115,
   "metadata": {},
   "outputs": [],
   "source": [
    "import torch\n",
    "import torch.nn as nn\n",
    "import torch.nn.functional as F\n",
    "\n",
    "class GradCAM3D:\n",
    "    def __init__(self, model, target_layer):\n",
    "        self.model = model.to(config.device)\n",
    "        self.target_layer = target_layer\n",
    "        self.gradients = None\n",
    "        self.activations = None\n",
    "        self.hook_layers()\n",
    "\n",
    "    def hook_layers(self):\n",
    "        def backward_hook(module, grad_in, grad_out):\n",
    "            self.gradients = grad_out[0]\n",
    "        \n",
    "        def forward_hook(module, input, output):\n",
    "            self.activations = output\n",
    "        \n",
    "        self.target_layer.register_forward_hook(forward_hook)\n",
    "        self.target_layer.register_backward_hook(backward_hook)\n",
    "\n",
    "    def generate_cam(self, input_image, target_class):\n",
    "        self.model.zero_grad()\n",
    "        output = self.model(input_image)\n",
    "        loss = output[0, target_class]\n",
    "        loss.backward()\n",
    "        \n",
    "        gradients = self.gradients.detach()\n",
    "        activations = self.activations.detach()\n",
    "        \n",
    "        weights = torch.mean(gradients, dim=[0, 2, 3, 4]).to(config.device)\n",
    "        cam = torch.zeros(activations.shape[1:], dtype=torch.float32).to(config.device)\n",
    "        \n",
    "        for i, w in enumerate(weights):\n",
    "            cam += w * activations[0, i, :, :, :]\n",
    "        \n",
    "        cam = F.relu(cam)\n",
    "        cam = cam - torch.min(cam)\n",
    "        cam = cam / torch.max(cam) #normalize\n",
    "        # cam = cam.cpu().numpy()\n",
    "        return cam\n"
   ]
  },
  {
   "cell_type": "code",
   "execution_count": 125,
   "metadata": {},
   "outputs": [
    {
     "name": "stdout",
     "output_type": "stream",
     "text": [
      "torch.Size([16, 12, 3, 56, 56])\n",
      "torch.Size([16, 12, 7])\n"
     ]
    }
   ],
   "source": [
    "sensor,img ,labels= next(iter(tt_loader_all))\n",
    "print(img.shape)\n",
    "print(sensor.shape)"
   ]
  },
  {
   "cell_type": "code",
   "execution_count": 117,
   "metadata": {},
   "outputs": [],
   "source": [
    "# 假設modelA和modelB的特徵圖層名稱分別為\"features\"和\"layer2\"\n",
    "target_layerA = combined_model.vgg.modelA.features[2]  # MaxPool3d layer for modelA\n",
    "target_layerB = combined_model.vgg.modelB.layer2[1].conv2  # conv2 layer of the second BasicBlock in layer2 for modelB\n",
    "\n",
    "gradcamA = GradCAM3D(combined_model.vgg.modelA, target_layerA)\n",
    "gradcamB = GradCAM3D(combined_model.vgg.modelB, target_layerB)\n",
    "\n",
    "# 生成Grad-CAM圖像\n",
    "input_image = img\n",
    "input_image=input_image.transpose(1,2)\n",
    "# print(input_image.shape)\n",
    "input_image = input_image.to(config.device) \n",
    "\n",
    "\n",
    "with torch.no_grad():\n",
    "    combined_model.eval()\n",
    "    output = combined_model.vgg(input_image)\n",
    "    # print(output)\n",
    "    target_classA = output.argmax(dim=1)\n",
    "    output = combined_model.vgg(input_image)\n",
    "    target_classB = output.argmax(dim=1)\n",
    "\n",
    "target_classA = target_classA[0].item()  # 假设我们只处理一个样本\n",
    "target_classB = target_classB[0].item()  # 假设我们只处理一个样本\n",
    "\n",
    "camA = gradcamA.generate_cam(input_image, target_classA)\n",
    "camB = gradcamB.generate_cam(input_image, target_classB)\n",
    "\n",
    "camA=torch.mean(camA,dim=0)\n",
    "camA=camA.cpu().numpy()\n",
    "\n",
    "camB=torch.mean(camB,dim=0)\n",
    "camB=camB.cpu().numpy()\n"
   ]
  },
  {
   "cell_type": "code",
   "execution_count": 113,
   "metadata": {},
   "outputs": [
    {
     "data": {
      "image/png": "[encoded data removed]",
      "text/plain": [
       "<Figure size 1000x500 with 2 Axes>"
      ]
     },
     "metadata": {},
     "output_type": "display_data"
    }
   ],
   "source": [
    "import matplotlib.pyplot as plt\n",
    "\n",
    "def visualize_cam_3d(cam, image, ax=None):\n",
    "    if ax is None:\n",
    "        fig, ax = plt.subplots()\n",
    "    # 取中间切片可视化\n",
    "    middle_slice = cam.shape[0] // 2\n",
    "\n",
    "    ax.imshow(image[0, 0, middle_slice].cpu().numpy(), alpha=0.5)\n",
    "    ax.imshow(cam[middle_slice], cmap='jet', alpha=0.5)\n",
    "    ax.axis('off')\n",
    "\n",
    "# 假设 input_image 是已经处理过的图像张量\n",
    "fig, axes = plt.subplots(1, 2, figsize=(10, 5))\n",
    "visualize_cam_3d(camA, input_image, ax=axes[0])\n",
    "axes[0].set_title('Grad-CAM for Model A')\n",
    "visualize_cam_3d(camB, input_image, ax=axes[1])\n",
    "axes[1].set_title('Grad-CAM for Model B')\n",
    "plt.show()\n"
   ]
  },
  {
   "cell_type": "code",
   "execution_count": 27,
   "metadata": {},
   "outputs": [],
   "source": [
    "import shap\n",
    "import torch\n",
    "import numpy as np\n",
    "import matplotlib.pyplot as plt\n",
    "\n",
    "# 假設你的 Transformer 模型為 combined_model.transformer\n",
    "transformer_model = combined_model.transformer\n",
    "\n",
    "transformer_model=transformer_model.to(config.device)\n",
    "sensor=sensor.to(config.device)\n",
    "# 將模型轉換為 eval 模式\n",
    "transformer_model.eval()\n",
    "\n",
    "# 如果模型的輸出經過了 softmax，則需要在計算 SHAP 值之前去除 softmax\n",
    "def model_forward(input_data):\n",
    "    output = transformer_model(input_data)\n",
    "    return output\n",
    "\n",
    "# 創建一個 PyTorch Deep Explainer\n",
    "explainer = shap.GradientExplainer(transformer_model, sensor)\n",
    "\n",
    "\n",
    "# 選擇一個樣本進行解釋（例如第一個樣本）\n",
    "sample_data = sensor[:10]\n",
    "\n",
    "# 計算 SHAP 值\n",
    "shap_values = explainer.shap_values(sample_data)\n",
    "\n",
    "# # 手動計算基線值（預期值）\n",
    "# background_data = sensor[:10] # 使用前 100 個樣本作為背景數據\n",
    "# baseline_value = model_forward(background_data).mean(0).cpu().detach().numpy()\n",
    "\n",
    "# # 可視化 SHAP 值\n",
    "# shap.initjs()\n",
    "# # 将 SHAP 值转换为张量，并确保在同一设备上\n",
    "# shap_values_tensor = [torch.tensor(sv).to(config.device) for sv in shap_values]\n",
    "\n",
    "# # 将 SHAP 值转换为 NumPy 数组\n",
    "# shap_values_np = [sv.cpu().detach().numpy() for sv in shap_values_tensor]\n",
    "\n",
    "# # 确定是否为多输出模型\n",
    "# if isinstance(baseline_value, np.ndarray) and baseline_value.ndim > 0:\n",
    "#     # 多输出模型，选择第一个输出\n",
    "#     shap.summary_plot(baseline_value[0], shap_values_np[0][0], feature_names=[f\"Feature {i}\" for i in range(sensor.shape[2])])\n",
    "# else:\n",
    "#     # 单输出模型\n",
    "#     shap.summary_plot(baseline_value, shap_values_np[0][0], feature_names=[f\"Feature {i}\" for i in range(sensor.shape[2])])\n",
    "    \n",
    "    "
   ]
  },
  {
   "cell_type": "code",
   "execution_count": 26,
   "metadata": {},
   "outputs": [
    {
     "name": "stdout",
     "output_type": "stream",
     "text": [
      "Shape of shap_values: (4, 1, 12, 7)\n"
     ]
    }
   ],
   "source": [
    "print('Shape of shap_values:', np.shape(shap_values))"
   ]
  },
  {
   "cell_type": "code",
   "execution_count": 185,
   "metadata": {},
   "outputs": [],
   "source": [
    "import shap\n",
    "import torch\n",
    "import numpy as np\n",
    "import matplotlib.pyplot as plt\n",
    "\n",
    "# 假设你的 Transformer 模型为 combined_model.transformer\n",
    "transformer_model = combined_model.transformer\n",
    "\n",
    "transformer_model.to(config.device)\n",
    "sensor_data = sensor.to(config.device)\n",
    "\n"
   ]
  },
  {
   "cell_type": "code",
   "execution_count": 186,
   "metadata": {},
   "outputs": [
    {
     "data": {
      "text/plain": [
       "TransformerModel(\n",
       "  (encoder): Linear(in_features=7, out_features=64, bias=True)\n",
       "  (pos_encoder): PositionalEncoding(\n",
       "    (dropout): Dropout(p=0.2, inplace=False)\n",
       "  )\n",
       "  (transformer_encoder): TransformerEncoder(\n",
       "    (layers): ModuleList(\n",
       "      (0-1): 2 x TransformerEncoderLayer(\n",
       "        (self_attn): MultiheadAttention(\n",
       "          (out_proj): NonDynamicallyQuantizableLinear(in_features=64, out_features=64, bias=True)\n",
       "        )\n",
       "        (linear1): Linear(in_features=64, out_features=2048, bias=True)\n",
       "        (dropout): Dropout(p=0.1, inplace=False)\n",
       "        (linear2): Linear(in_features=2048, out_features=64, bias=True)\n",
       "        (norm1): LayerNorm((64,), eps=1e-05, elementwise_affine=True)\n",
       "        (norm2): LayerNorm((64,), eps=1e-05, elementwise_affine=True)\n",
       "        (dropout1): Dropout(p=0.1, inplace=False)\n",
       "        (dropout2): Dropout(p=0.1, inplace=False)\n",
       "      )\n",
       "    )\n",
       "  )\n",
       "  (decoder): Linear(in_features=64, out_features=4, bias=True)\n",
       ")"
      ]
     },
     "execution_count": 186,
     "metadata": {},
     "output_type": "execute_result"
    }
   ],
   "source": [
    "transformer_model"
   ]
  }
 ],
 "metadata": {
  "kernelspec": {
   "display_name": "Python 3",
   "language": "python",
   "name": "python3"
  },
  "language_info": {
   "codemirror_mode": {
    "name": "ipython",
    "version": 3
   },
   "file_extension": ".py",
   "mimetype": "text/x-python",
   "name": "python",
   "nbconvert_exporter": "python",
   "pygments_lexer": "ipython3",
   "version": "3.10.13"
  }
 },
 "nbformat": 4,
 "nbformat_minor": 2
}
